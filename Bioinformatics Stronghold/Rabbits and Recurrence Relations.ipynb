{
 "cells": [
  {
   "cell_type": "markdown",
   "id": "43c18592",
   "metadata": {},
   "source": [
    "__Given:__ Positive integers n≤40 and k≤5.\n",
    "\n",
    "__Return:__ The total number of rabbit pairs that will be present after *n* months, if we begin with 1 pair and in each generation, every pair of reproduction-age rabbits produces a litter of k rabbit pairs (instead of only 1 pair).`"
   ]
  },
  {
   "cell_type": "code",
   "execution_count": 7,
   "id": "909d4dda",
   "metadata": {},
   "outputs": [
    {
     "data": {
      "text/plain": [
       "[5, 3]"
      ]
     },
     "execution_count": 7,
     "metadata": {},
     "output_type": "execute_result"
    }
   ],
   "source": [
    "with open(\"Rabbits and Recurrence Relations.txt\", 'r') as f:\n",
    "    data = f.read()\n",
    "    data = list(map(int, data.split(' ')))\n",
    "data"
   ]
  },
  {
   "cell_type": "code",
   "execution_count": 9,
   "id": "a9783451",
   "metadata": {},
   "outputs": [
    {
     "name": "stdout",
     "output_type": "stream",
     "text": [
      "0\n",
      "1\n",
      "2\n",
      "3\n",
      "4\n"
     ]
    }
   ],
   "source": [
    "x = 0\n",
    "for i in range(data[0]):\n",
    "    print(i)\n",
    "    x = x \n",
    "    "
   ]
  }
 ],
 "metadata": {
  "kernelspec": {
   "display_name": "Python 3 (ipykernel)",
   "language": "python",
   "name": "python3"
  },
  "language_info": {
   "codemirror_mode": {
    "name": "ipython",
    "version": 3
   },
   "file_extension": ".py",
   "mimetype": "text/x-python",
   "name": "python",
   "nbconvert_exporter": "python",
   "pygments_lexer": "ipython3",
   "version": "3.9.7"
  }
 },
 "nbformat": 4,
 "nbformat_minor": 5
}
