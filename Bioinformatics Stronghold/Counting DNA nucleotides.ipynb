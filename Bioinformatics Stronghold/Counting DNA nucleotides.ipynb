{
 "cells": [
  {
   "cell_type": "markdown",
   "id": "dd1d4a1f",
   "metadata": {},
   "source": [
    "# Problem\n",
    "\n",
    "A string is simply an ordered collection of symbols selected from some alphabet and formed into a word; the length of a string is the number of symbols that it contains.\n",
    "\n",
    "An example of a length 21 DNA string (whose alphabet contains the symbols 'A', 'C', 'G', and 'T') is \"ATGCTTCAGAAAGGTCTTACG.\"\n",
    "\n",
    "**Given:** A DNA string _s_ of length at most 1000 nt.\n",
    "\n",
    "**Return:** Four integers (separated by spaces) counting the respective number of times that the symbols 'A', 'C', 'G', and 'T' occur in _s_."
   ]
  },
  {
   "cell_type": "code",
   "execution_count": 4,
   "id": "6bb051ac",
   "metadata": {},
   "outputs": [
    {
     "data": {
      "text/plain": [
       "'TCGCGTTGGTTTCCGCAATGTAACGCTAGCCCTGGCGGCGGTCAGTCTCCCGGCCGTCTGCTTCTTGTTGGCTACCTCGTTCCGCGGATCGTACTAGTGGCTGGCTTTACGAGTATCTACGACAGCTCGGATAGGCCCCGAAGGGGCTGGGTCAGGGTTGCCCGTAACGAACTAAGATCGACATCACTTAGCTCATATCTCTCAGGTCTCGACCCAGTGCCACCCCCGTAGCTCTTGCTAATACCTCAGCCTGCTGGCATTTGCGTTCGCAACCAGGTGTTCCCCTCCGAACGCGGCAGTACCTTAGGGCCTAAATTCCCCCCCTACTGCCAGCACGGTTTTCCTCCCACTTCTTGTCTTAGGTGCGGTCGATTACATAGGTTAAATTACCGGCTGACGCATAGTGTAGGTGCATAGGGAAGATTACTGCAGATGGTAAGTGCGGGTGCTATCCTATTGGGAGTAGTGGCCTTGGCGAATTTGAACCGCTGCCTCCTGTACGGGAGACGTTCGTGTGTGGTGCCAGCGCGCGACTTAGGGTCACCTGTTCGTCAACTGTCCATGCAATAAGCCGGGTAGTCGAGCGCCGCGGTGTTTTGCCTGGGGCTGCCGAAGACACGCCCTTCATGCAGGGATTAGTTTCGAACCGAGCCACTTAGCAAACTTTGTTGCGATTCAAGTGGCTGCTCGCCATCAGCGATGCGTTAACAAGGCACTGCCTCTACGCATAATCCGATCGGCCACTCTGGGAGCCGCGAGTGGACAAACTAGCGGTGCATTTAATTTCAAATTGCGGGGCCCATTTCTTTATACTTTAAATCGT\\n'"
      ]
     },
     "execution_count": 4,
     "metadata": {},
     "output_type": "execute_result"
    }
   ],
   "source": [
    "with open('Counting DNA nucleotides.txt', 'r') as f:\n",
    "    data = f.read()\n",
    "data"
   ]
  },
  {
   "cell_type": "code",
   "execution_count": 5,
   "id": "dc0955aa",
   "metadata": {},
   "outputs": [
    {
     "name": "stdout",
     "output_type": "stream",
     "text": [
      "158 229 223 213\n"
     ]
    }
   ],
   "source": [
    "print(data.count('A'), data.count('C'), data.count('G'), data.count('T'))"
   ]
  }
 ],
 "metadata": {
  "kernelspec": {
   "display_name": "Python 3 (ipykernel)",
   "language": "python",
   "name": "python3"
  },
  "language_info": {
   "codemirror_mode": {
    "name": "ipython",
    "version": 3
   },
   "file_extension": ".py",
   "mimetype": "text/x-python",
   "name": "python",
   "nbconvert_exporter": "python",
   "pygments_lexer": "ipython3",
   "version": "3.9.7"
  }
 },
 "nbformat": 4,
 "nbformat_minor": 5
}
