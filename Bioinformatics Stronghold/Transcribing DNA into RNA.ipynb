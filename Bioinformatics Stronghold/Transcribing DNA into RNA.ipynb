{
 "cells": [
  {
   "cell_type": "markdown",
   "id": "5889f0ee",
   "metadata": {},
   "source": [
    "# Problem\n",
    "\n",
    "An RNA string is a string formed from the alphabet containing 'A', 'C', 'G', and 'U'.\n",
    "\n",
    "Given a DNA string _t_ corresponding to a coding strand, its transcribed RNA string _u_ is formed by replacing all occurrences of 'T' in _t_ with 'U' in _u_.\n",
    "\n",
    "Given: A DNA string _t_ having length at most 1000 nt.\n",
    "\n",
    "Return: The transcribed RNA string of _t_."
   ]
  },
  {
   "cell_type": "code",
   "execution_count": 8,
   "id": "d54bcc3e",
   "metadata": {},
   "outputs": [
    {
     "name": "stdout",
     "output_type": "stream",
     "text": [
      "['UAUACAGAUCGCCCACAUAACGCUAAAUGCGCUGAAAGUACAGUAGCGACCCGAUUACUCCCGAGGCAAUAACGUCAACUAAUUGCGGCAUCAAAACUUACAGCGUUUCUUCGCAUACCAUCGUCUAUCGGCUAUAACCAUAUAAGUUGAGCGACGAUUGUAUGUGGGUACCCCUAACGCCUCCUGCGAAGUGGUGGAGAUGCUUCAGGGCAAUCCGUGUCGAGAACAAAGGGAAGGCUGCUGGCAUACGACAACCUUCGGUGAUUUUUGGGUAGUGCAAGACUGGUGGAACCCGCUGAACUAUAUCGCAAACUCUAAUCCUAUGCACAACUCACCUUCAGGGUGCCCUGUUUAAUGGGAGAUACCAUGGUCGCGGCUAGGUUGGAAUGCGGAGGGUUAAGUGACGUGAAAUCGGGAAAGCCAAUUCAAUUCAGGACCAACUUACCAUUAUGUUGUCUCCUGAAUUCCUGGACGUGGGCCCUCCUACCCAGAGUUCGCGACCAAUACGGGCGUUUAAUCAGUCUUGAACAGUGCGUCCAGUGAGUCGGCUGUUUAACCAUGAGCUACGCGACGAGGCUUCACCCUUAAUACAGUCAAGGACUACCUGGAAACAUCAAGUACUAGCGUAGUUUCUACUACCUCGUUUCUUUACAAAAACCGAAAACAAGGAGCCCCACUUUCAGCUCGAUGCAAGUGUCCCGGAUCAGUCCUGGCGGGCCCAGGUAAGGUUCAAAGGAUUCCUACCGGCGGCGGAUCGUCGGAUGCUCGAGACCCGUAACGGAGCGAAUUUUGGAAGAUGGCGAACAAUUCCGAAACUUCUUAGUGGAAUCUCUGUAAGUACCCUAUCGAACCCUUCGCGGGCUUUUACCUCUGUUACUUCGAUAGCUUCCCUCGCUUUCAACGGAUG']\n"
     ]
    }
   ],
   "source": [
    "with open(\"Transcribing DNA into RNA.txt\", 'r') as f:\n",
    "    data = f.read()\n",
    "    data = data.replace('T', 'U')\n",
    "    data = data.split()\n",
    "print(data)"
   ]
  }
 ],
 "metadata": {
  "kernelspec": {
   "display_name": "Python 3 (ipykernel)",
   "language": "python",
   "name": "python3"
  },
  "language_info": {
   "codemirror_mode": {
    "name": "ipython",
    "version": 3
   },
   "file_extension": ".py",
   "mimetype": "text/x-python",
   "name": "python",
   "nbconvert_exporter": "python",
   "pygments_lexer": "ipython3",
   "version": "3.9.7"
  }
 },
 "nbformat": 4,
 "nbformat_minor": 5
}
