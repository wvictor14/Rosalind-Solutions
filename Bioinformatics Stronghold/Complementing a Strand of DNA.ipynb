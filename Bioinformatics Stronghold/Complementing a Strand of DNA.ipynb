{
 "cells": [
  {
   "cell_type": "markdown",
   "id": "619cab30",
   "metadata": {},
   "source": [
    "# Problem\n",
    "\n",
    "In DNA strings, symbols 'A' and 'T' are complements of each other, as are 'C' and 'G'.\n",
    "\n",
    "The reverse complement of a DNA string _s_ is the string sc formed by reversing the symbols of _s_, then taking the complement of each symbol (e.g., the reverse complement of \"GTCA\" is \"TGAC\").\n",
    "\n",
    "**Given:** A DNA string _s_ of length at most 1000 bp.\n",
    "\n",
    "**Return:** The reverse complement _s^c_ of _s_."
   ]
  },
  {
   "cell_type": "code",
   "execution_count": 12,
   "id": "e8679d11",
   "metadata": {},
   "outputs": [],
   "source": [
    "with open(\"Complementing a Strand of DNA.txt\", 'r') as f:\n",
    "    data = f.read()\n",
    "    data = data.replace('\\n', '')"
   ]
  },
  {
   "cell_type": "code",
   "execution_count": 13,
   "id": "6092b8ef",
   "metadata": {},
   "outputs": [],
   "source": [
    "translate = {\n",
    "    'A' : \"T\",\n",
    "    'T' : \"A\",\n",
    "    'G' : \"C\",\n",
    "    'C' : \"G\"\n",
    "}\n",
    "data_rc = \"\""
   ]
  },
  {
   "cell_type": "code",
   "execution_count": 10,
   "id": "56c6152f",
   "metadata": {},
   "outputs": [
    {
     "data": {
      "text/plain": [
       "'GTGAAAAAGAGCGCCTTAATGGGTTGCACTAGGACCGGTATTACGGTTCGATTCATCCTAAGCACCTGTGAAGCTTCCACTGCTATCCAACTCACTCAGCATAGCTCTACCTCAGAGCATGCTGCTGGTACAGAACTAACTGTCCCCAGACCGACATGACCCTTGCAGCGCGCCGCACAAACATGTTGATCCCACCACGAATAGAGGGGTAGCGCAGATGGTCCGCCTTCGACTTGAAGCACTTGCTGGAATTACGTAACAGGTGCGCTATTCGAAAAGGATGTGAACGATCTACATGCAGCGCGACGCTTGACATCTTTGGTTGTACATATTTTTAACGGCTGACCAACTGAGACAGTTGGAAGCCGCCCGAAAGCGTCGTACATGTCAATAGACGGCCGAGGCCGCCACCCCCTCGCGCCATATTCGAATTATATGTTCGATGTAACGTTAGATCAAGGTCATATGTTCACACCTGTATAGTCCACTTCCAAAATTGCGTGACCGATTTTCGCTTCCAGCGTTCCATCTTTGGTCCAACGTAGTTGCAGTGCAATGTAGGAAGTCTATTGGCGACCCGGACTGGAAAGCAGCGGAGAAATTTGGACGATCCACGTTGCTTTCCCGGTCTGCACAAACGTCCGCTAGCTCCGGTTAGGCACAACCAGTTTACTCGGACAAGGTCATACACACGTCACTAGGTTAATAAGGATAACATAATCACCATCGCGCATTATAAGCTTCGTCAGCACTGGGGCTTTTCATTTATGCCTATCGACAAGCTATGCAAGATAAAGTGATTTGAGCACGCTACGTTGGCACGTCTCGACCGCAAGGCAAATCACGCGGGCTCTCCTTATCCAACCAGTAGCAAACAGGCAGCCCATCGGACAGGGGCGAGTCCGAGGCGGATCGACAGGCCGGCTGTAGCATGGCCCTACCACAAGACAGTTACGTAAGAGCTGAACGTCTCTCGGATCC'"
      ]
     },
     "execution_count": 10,
     "metadata": {},
     "output_type": "execute_result"
    }
   ],
   "source": [
    "for i in data[::-1]:\n",
    "    data_rc += translate[i]\n",
    "data_rc"
   ]
  }
 ],
 "metadata": {
  "kernelspec": {
   "display_name": "Python 3 (ipykernel)",
   "language": "python",
   "name": "python3"
  },
  "language_info": {
   "codemirror_mode": {
    "name": "ipython",
    "version": 3
   },
   "file_extension": ".py",
   "mimetype": "text/x-python",
   "name": "python",
   "nbconvert_exporter": "python",
   "pygments_lexer": "ipython3",
   "version": "3.9.7"
  }
 },
 "nbformat": 4,
 "nbformat_minor": 5
}
