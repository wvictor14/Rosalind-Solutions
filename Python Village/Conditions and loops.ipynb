{
 "cells": [
  {
   "cell_type": "markdown",
   "id": "1c6060ed",
   "metadata": {},
   "source": [
    "# Problem\n",
    "\n",
    "**Given:** Two positive integers *a* and *b* (*a*<*b*<10000).\n",
    "\n",
    "**Return:* The sum of all odd integers from *a* through *b*, inclusively."
   ]
  },
  {
   "cell_type": "code",
   "execution_count": 1,
   "id": "28c93f8b",
   "metadata": {},
   "outputs": [],
   "source": [
    "# load in data\n",
    "with open('Conditions and loops.txt', mode = 'r') as f:\n",
    "    lines = f.read()\n",
    "data = lines.split()\n",
    "a = int(data[0])\n",
    "b = int(data[1])"
   ]
  },
  {
   "cell_type": "code",
   "execution_count": 2,
   "id": "75559a81",
   "metadata": {},
   "outputs": [
    {
     "name": "stdout",
     "output_type": "stream",
     "text": [
      "12558201\n"
     ]
    }
   ],
   "source": [
    "c = 0\n",
    "for i in range(a, b+1):\n",
    "    \n",
    "    if i%2 != 0:\n",
    "        c += i\n",
    "print(c)"
   ]
  }
 ],
 "metadata": {
  "kernelspec": {
   "display_name": "Python 3 (ipykernel)",
   "language": "python",
   "name": "python3"
  },
  "language_info": {
   "codemirror_mode": {
    "name": "ipython",
    "version": 3
   },
   "file_extension": ".py",
   "mimetype": "text/x-python",
   "name": "python",
   "nbconvert_exporter": "python",
   "pygments_lexer": "ipython3",
   "version": "3.9.7"
  }
 },
 "nbformat": 4,
 "nbformat_minor": 5
}
