{
 "cells": [
  {
   "cell_type": "markdown",
   "id": "7996b51d",
   "metadata": {},
   "source": [
    "# Problem\n",
    "\n",
    "**Given:** A file containing at most 1000 lines.\n",
    "\n",
    "**Return:** A file containing all the even-numbered lines from the original file. Assume 1-based numbering of lines."
   ]
  },
  {
   "cell_type": "code",
   "execution_count": 1,
   "id": "8f8b025c",
   "metadata": {},
   "outputs": [
    {
     "name": "stdout",
     "output_type": "stream",
     "text": [
      "The number of lines in \"Reading and writing.txt\" is  41\n"
     ]
    }
   ],
   "source": [
    "# load in data\n",
    "with open('Reading and writing.txt', mode = 'r') as f:\n",
    "    lines = f.read()\n",
    "    lines = lines.split(sep = '\\n')\n",
    "print('The number of lines in \"Reading and writing.txt\" is ', len(lines))"
   ]
  },
  {
   "cell_type": "code",
   "execution_count": 2,
   "id": "5efcc10e",
   "metadata": {},
   "outputs": [
    {
     "name": "stdout",
     "output_type": "stream",
     "text": [
      "The number of lines in Reading and writing OUT.txt is  20\n"
     ]
    }
   ],
   "source": [
    "lines_out = lines[slice(1, len(lines), 2)]\n",
    "print('The number of lines in Reading and writing OUT.txt is ', len(lines_out))"
   ]
  },
  {
   "cell_type": "code",
   "execution_count": 3,
   "id": "696db9e4",
   "metadata": {},
   "outputs": [],
   "source": [
    "f = open('Reading and writing OUT.txt', 'w')\n",
    "for i in lines_out:\n",
    "    f.write(i + '\\n')\n",
    "f.close()"
   ]
  }
 ],
 "metadata": {
  "kernelspec": {
   "display_name": "Python 3 (ipykernel)",
   "language": "python",
   "name": "python3"
  },
  "language_info": {
   "codemirror_mode": {
    "name": "ipython",
    "version": 3
   },
   "file_extension": ".py",
   "mimetype": "text/x-python",
   "name": "python",
   "nbconvert_exporter": "python",
   "pygments_lexer": "ipython3",
   "version": "3.9.7"
  }
 },
 "nbformat": 4,
 "nbformat_minor": 5
}
