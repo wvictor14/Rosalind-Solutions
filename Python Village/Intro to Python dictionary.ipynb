{
 "cells": [
  {
   "cell_type": "markdown",
   "id": "a5a005bb",
   "metadata": {},
   "source": [
    "# Problem\n",
    "\n",
    "**Given:** A string *s* of length at most 10000 letters.\n",
    "\n",
    "**Return:** The number of occurrences of each word in *s*, where words are separated by spaces. Words are case-sensitive, and the lines in the output can be in any order."
   ]
  },
  {
   "cell_type": "code",
   "execution_count": 1,
   "id": "20c80cdc",
   "metadata": {},
   "outputs": [],
   "source": [
    "f = open('Intro to Python dictionary.txt', 'r')\n",
    "data = f.read()\n",
    "data_list = data.split()"
   ]
  },
  {
   "cell_type": "code",
   "execution_count": 3,
   "id": "9c38db2d",
   "metadata": {},
   "outputs": [
    {
     "data": {
      "text/plain": [
       "{'When': 1,\n",
       " 'I': 2,\n",
       " 'find': 1,\n",
       " 'myself': 1,\n",
       " 'in': 4,\n",
       " 'times': 1,\n",
       " 'of': 11,\n",
       " 'trouble': 1,\n",
       " 'Mother': 2,\n",
       " 'Mary': 2,\n",
       " 'comes': 2,\n",
       " 'to': 3,\n",
       " 'me': 4,\n",
       " 'Speaking': 3,\n",
       " 'words': 7,\n",
       " 'wisdom': 7,\n",
       " 'let': 30,\n",
       " 'it': 36,\n",
       " 'be': 41,\n",
       " 'And': 3,\n",
       " 'my': 1,\n",
       " 'hour': 1,\n",
       " 'darkness': 1,\n",
       " 'she': 1,\n",
       " 'is': 4,\n",
       " 'standing': 1,\n",
       " 'right': 1,\n",
       " 'front': 1,\n",
       " 'Let': 6,\n",
       " 'Whisper': 4,\n",
       " 'when': 2,\n",
       " 'the': 4,\n",
       " 'broken': 1,\n",
       " 'hearted': 1,\n",
       " 'people': 1,\n",
       " 'living': 1,\n",
       " 'world': 1,\n",
       " 'agree': 1,\n",
       " 'There': 4,\n",
       " 'will': 5,\n",
       " 'an': 4,\n",
       " 'answer': 4,\n",
       " 'For': 1,\n",
       " 'though': 1,\n",
       " 'they': 2,\n",
       " 'may': 1,\n",
       " 'parted': 1,\n",
       " 'there': 2,\n",
       " 'still': 2,\n",
       " 'a': 2,\n",
       " 'chance': 1,\n",
       " 'that': 2,\n",
       " 'see': 1,\n",
       " 'night': 1,\n",
       " 'cloudy': 1,\n",
       " 'light': 1,\n",
       " 'shines': 1,\n",
       " 'on': 1,\n",
       " 'Shine': 1,\n",
       " 'until': 1,\n",
       " 'tomorrow': 1,\n",
       " 'wake': 1,\n",
       " 'up': 1,\n",
       " 'sound': 1,\n",
       " 'music': 1,\n",
       " 'yeah': 2}"
      ]
     },
     "execution_count": 3,
     "metadata": {},
     "output_type": "execute_result"
    }
   ],
   "source": [
    "data_dict = {}\n",
    "for i in data_list:\n",
    "    data_dict[i] = data_list.count(i)\n",
    "data_dict"
   ]
  },
  {
   "cell_type": "code",
   "execution_count": 19,
   "id": "fd516aa2",
   "metadata": {},
   "outputs": [],
   "source": [
    "o = open('Intro to Python dictionary OUT.txt', 'w')\n",
    "for i in data_dict.keys():\n",
    "    o.write(i + ' ' + str(data_dict[i]) + '\\n')\n",
    "o.close()"
   ]
  },
  {
   "cell_type": "code",
   "execution_count": 17,
   "id": "2c46adb4",
   "metadata": {},
   "outputs": [
    {
     "name": "stdout",
     "output_type": "stream",
     "text": [
      "1  \n",
      "2  \n",
      "1  \n",
      "1  \n",
      "4  \n",
      "1  \n",
      "11  \n",
      "1  \n",
      "2  \n",
      "2  \n",
      "2  \n",
      "3  \n",
      "4  \n",
      "3  \n",
      "7  \n",
      "7  \n",
      "30  \n",
      "36  \n",
      "41  \n",
      "3  \n",
      "1  \n",
      "1  \n",
      "1  \n",
      "1  \n",
      "4  \n",
      "1  \n",
      "1  \n",
      "1  \n",
      "6  \n",
      "4  \n",
      "2  \n",
      "4  \n",
      "1  \n",
      "1  \n",
      "1  \n",
      "1  \n",
      "1  \n",
      "1  \n",
      "4  \n",
      "5  \n",
      "4  \n",
      "4  \n",
      "1  \n",
      "1  \n",
      "2  \n",
      "1  \n",
      "1  \n",
      "2  \n",
      "2  \n",
      "2  \n",
      "1  \n",
      "2  \n",
      "1  \n",
      "1  \n",
      "1  \n",
      "1  \n",
      "1  \n",
      "1  \n",
      "1  \n",
      "1  \n",
      "1  \n",
      "1  \n",
      "1  \n",
      "1  \n",
      "1  \n",
      "2  \n"
     ]
    }
   ],
   "source": [
    "for i in data_dict.keys():\n",
    "    print(data_dict[i], ' ')"
   ]
  },
  {
   "cell_type": "code",
   "execution_count": null,
   "id": "285eb9cc",
   "metadata": {},
   "outputs": [],
   "source": []
  }
 ],
 "metadata": {
  "kernelspec": {
   "display_name": "Python 3 (ipykernel)",
   "language": "python",
   "name": "python3"
  },
  "language_info": {
   "codemirror_mode": {
    "name": "ipython",
    "version": 3
   },
   "file_extension": ".py",
   "mimetype": "text/x-python",
   "name": "python",
   "nbconvert_exporter": "python",
   "pygments_lexer": "ipython3",
   "version": "3.9.7"
  }
 },
 "nbformat": 4,
 "nbformat_minor": 5
}
