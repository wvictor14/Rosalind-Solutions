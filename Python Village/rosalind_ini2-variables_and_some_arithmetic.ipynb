{
 "cells": [
  {
   "cell_type": "markdown",
   "id": "7b11a16b",
   "metadata": {},
   "source": [
    "# Problem\n",
    "\n",
    "__Given:__ Two positive integers a and b, each less than 1000.\n",
    "\n",
    "__Return:__ The integer corresponding to the square of the hypotenuse of the right triangle whose legs have lengths a\n",
    "and b.`\n",
    "\n",
    "__Notes:__\n",
    "\n",
    "The dataset changes every time you click \"Download dataset\".\n",
    "We check only your final answer to the downloaded dataset in the box below, not your code itself. If you would like to provide your code as well, you may use the upload tool. Please also note that the correct answer to this problem will not in general be 34; it is simply an example of what you should return in the specific case that the legs of the triangle have length 3 and 5.`"
   ]
  },
  {
   "cell_type": "code",
   "execution_count": 1,
   "id": "06cec8a9",
   "metadata": {},
   "outputs": [
    {
     "name": "stdout",
     "output_type": "stream",
     "text": [
      "a = 879 \n",
      "b = 856\n"
     ]
    }
   ],
   "source": [
    "# load in data\n",
    "with open('rosalind_ini2.txt', mode = 'r') as f:\n",
    "    lines = f.read()\n",
    "    lines\n",
    "\n",
    "# read in data\n",
    "lines = lines.strip()\n",
    "lines = lines.split(' ')\n",
    "\n",
    "a = int(lines[0])\n",
    "b = int(lines[1])\n",
    "print(\"a =\", a, \"\\nb =\", b)"
   ]
  },
  {
   "cell_type": "code",
   "execution_count": 2,
   "id": "de8aedeb",
   "metadata": {},
   "outputs": [
    {
     "name": "stdout",
     "output_type": "stream",
     "text": [
      "879^2 + 856^2 is equal to 1505377\n"
     ]
    }
   ],
   "source": [
    "c = a**2 + b**2\n",
    "print(a, \"^2 + \", b, \"^2 is equal to \", c, sep = '')"
   ]
  },
  {
   "cell_type": "code",
   "execution_count": 3,
   "id": "5aff6be0",
   "metadata": {},
   "outputs": [
    {
     "data": {
      "text/plain": [
       "1505377"
      ]
     },
     "execution_count": 3,
     "metadata": {},
     "output_type": "execute_result"
    }
   ],
   "source": [
    "c"
   ]
  }
 ],
 "metadata": {
  "kernelspec": {
   "display_name": "Python 3 (ipykernel)",
   "language": "python",
   "name": "python3"
  },
  "language_info": {
   "codemirror_mode": {
    "name": "ipython",
    "version": 3
   },
   "file_extension": ".py",
   "mimetype": "text/x-python",
   "name": "python",
   "nbconvert_exporter": "python",
   "pygments_lexer": "ipython3",
   "version": "3.9.7"
  }
 },
 "nbformat": 4,
 "nbformat_minor": 5
}
