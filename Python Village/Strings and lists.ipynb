{
 "cells": [
  {
   "cell_type": "markdown",
   "id": "cd9c5bfb",
   "metadata": {},
   "source": [
    "# Problem\n",
    "\n",
    "__Given:__ A string _s_ of length at most 200 letters and four integers _a_, _b_, _c_ and _d_.\n",
    "\n",
    "__Return:__ The slice of this string from indices _a_ through _b_ and _c_ through _d_ (with space in between), inclusively. In other words, we should include elements _s[b]_ and _s[d]_ in our slice."
   ]
  },
  {
   "cell_type": "code",
   "execution_count": 1,
   "id": "f5e5514f",
   "metadata": {},
   "outputs": [],
   "source": [
    "# read and parse data\n",
    "\n",
    "infile = open('Strings and lists.txt')\n",
    "string1 = infile.readline()\n",
    "string2 = infile.readline()\n",
    "string2 = string2.split(' ')\n",
    "a = int(string2[0])\n",
    "b = int(string2[1])\n",
    "c = int(string2[2])\n",
    "d = int(string2[3])"
   ]
  },
  {
   "cell_type": "code",
   "execution_count": 2,
   "id": "49233b1d",
   "metadata": {},
   "outputs": [
    {
     "data": {
      "text/plain": [
       "'Damon nivalis'"
      ]
     },
     "execution_count": 2,
     "metadata": {},
     "output_type": "execute_result"
    }
   ],
   "source": [
    "string1[a:b+1] + ' ' + string1[c:d+1]"
   ]
  }
 ],
 "metadata": {
  "kernelspec": {
   "display_name": "Python 3 (ipykernel)",
   "language": "python",
   "name": "python3"
  },
  "language_info": {
   "codemirror_mode": {
    "name": "ipython",
    "version": 3
   },
   "file_extension": ".py",
   "mimetype": "text/x-python",
   "name": "python",
   "nbconvert_exporter": "python",
   "pygments_lexer": "ipython3",
   "version": "3.9.7"
  }
 },
 "nbformat": 4,
 "nbformat_minor": 5
}
