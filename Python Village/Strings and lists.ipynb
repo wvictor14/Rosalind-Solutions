{
 "cells": [
  {
   "cell_type": "markdown",
   "id": "5eeb8a1b",
   "metadata": {},
   "source": [
    "# Problem\n",
    "\n",
    "__Given:__ A string _s_ of length at most 200 letters and four integers _a_, _b_, _c_ and _d_.\n",
    "\n",
    "__Return:__ The slice of this string from indices _a_ through _b_ and _c_ through _d_ (with space in between), inclusively. In other words, we should include elements _s[b]_ and _s[d]_ in our slice."
   ]
  },
  {
   "cell_type": "code",
   "execution_count": 1,
   "id": "58d7205c",
   "metadata": {},
   "outputs": [],
   "source": [
    "# read and parse data\n",
    "\n",
    "infile = open('Strings and lists.txt')\n",
    "string1 = infile.readline()\n",
    "string2 = infile.readline()\n",
    "string2 = string2.split(' ')\n",
    "a = int(string2[0])\n",
    "b = int(string2[1])\n",
    "c = int(string2[2])\n",
    "d = int(string2[3])"
   ]
  },
  {
   "cell_type": "code",
   "execution_count": 6,
   "id": "f1a1f2b3",
   "metadata": {},
   "outputs": [],
   "source": [
    "string1 = 'HumptyDumptysatonawallHumptyDumptyhadagreatfallAlltheKingshorsesandalltheKingsmenCouldntputHumptyDumptyinhisplaceagain.'\n",
    "a = 22;b= 27;c= 97;d= 102"
   ]
  },
  {
   "cell_type": "code",
   "execution_count": 7,
   "id": "7a41ebea",
   "metadata": {},
   "outputs": [
    {
     "data": {
      "text/plain": [
       "'Humpty Dumpty'"
      ]
     },
     "execution_count": 7,
     "metadata": {},
     "output_type": "execute_result"
    }
   ],
   "source": [
    "string1[a:b+1] + ' ' + string1[c:d+1]"
   ]
  },
  {
   "cell_type": "code",
   "execution_count": null,
   "id": "5202831d",
   "metadata": {},
   "outputs": [],
   "source": []
  }
 ],
 "metadata": {
  "kernelspec": {
   "display_name": "Python 3 (ipykernel)",
   "language": "python",
   "name": "python3"
  },
  "language_info": {
   "codemirror_mode": {
    "name": "ipython",
    "version": 3
   },
   "file_extension": ".py",
   "mimetype": "text/x-python",
   "name": "python",
   "nbconvert_exporter": "python",
   "pygments_lexer": "ipython3",
   "version": "3.9.7"
  }
 },
 "nbformat": 4,
 "nbformat_minor": 5
}
